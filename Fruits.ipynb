{
 "cells": [
  {
   "cell_type": "code",
   "execution_count": 1,
   "id": "3ac71734",
   "metadata": {},
   "outputs": [],
   "source": [
    "from keras.preprocessing.image import ImageDataGenerator\n",
    "train_datagen = ImageDataGenerator(rescale = 1./255,\n",
    "                                   shear_range = 0.2,\n",
    "                                   zoom_range = 0.2,\n",
    "                                   horizontal_flip = True,)\n",
    "\n",
    "test_datagen = ImageDataGenerator(rescale = 1./255,)"
   ]
  },
  {
   "cell_type": "code",
   "execution_count": 2,
   "id": "2c3c2169",
   "metadata": {},
   "outputs": [
    {
     "name": "stdout",
     "output_type": "stream",
     "text": [
      "Found 2426 images belonging to 5 classes.\n"
     ]
    }
   ],
   "source": [
    "training_set = train_datagen.flow_from_directory('C:/Users/sachi/OneDrive/Documents/RoboGarden/Neural Networks/CNN/fruits_training',\n",
    "                                                 target_size = (100, 100),\n",
    "                                                 batch_size = 32,\n",
    "                                                 class_mode = 'categorical',\n",
    "                                                 shuffle = True)"
   ]
  },
  {
   "cell_type": "code",
   "execution_count": 3,
   "id": "529590d7",
   "metadata": {},
   "outputs": [
    {
     "name": "stdout",
     "output_type": "stream",
     "text": [
      "Found 814 images belonging to 5 classes.\n"
     ]
    }
   ],
   "source": [
    "test_set = test_datagen.flow_from_directory('C:/Users/sachi/OneDrive/Documents/RoboGarden/Neural Networks/CNN/fruits_test',\n",
    "                                            target_size = (100, 100),\n",
    "                                            batch_size = 32,\n",
    "                                            class_mode = 'categorical',\n",
    "                                            shuffle = False)"
   ]
  },
  {
   "cell_type": "code",
   "execution_count": 4,
   "id": "f476b758",
   "metadata": {},
   "outputs": [],
   "source": [
    "# Initializing the CNN\n",
    "from keras.layers import Conv2D\n",
    "from keras.layers import MaxPooling2D\n",
    "from keras.layers import Flatten\n",
    "from keras.layers import Dense\n",
    "from keras.layers import Dropout\n",
    "\n",
    "from keras.models import Sequential\n",
    "classifier = Sequential()\n",
    "\n",
    "# Convolution Layer\n",
    "classifier.add(Conv2D(16, (2, 2), input_shape = (100, 100, 3), activation = 'relu')) # shape matches the image size we loaded\n",
    "\n",
    "# Pooling Layer\n",
    "classifier.add(MaxPooling2D(pool_size = (2, 2)))\n",
    "\n",
    "# Convolution Layer\n",
    "classifier.add(Conv2D(32, (2, 2), activation = 'relu'))\n",
    "\n",
    "# Pooling Layer\n",
    "classifier.add(MaxPooling2D(pool_size = (2, 2)))\n",
    "\n",
    "# Convolution Layer\n",
    "classifier.add(Conv2D(64, (2, 2), activation = 'relu'))\n",
    "\n",
    "# Pooling Layer\n",
    "classifier.add(MaxPooling2D(pool_size = (2, 2)))\n",
    "\n",
    "# Add a dropout layer\n",
    "classifier.add(Dropout(0.3))\n",
    "\n",
    "# Flattening layer\n",
    "classifier.add(Flatten())\n",
    "\n",
    "# Fully connected dense layer\n",
    "classifier.add(Dense(units = 150, activation = 'relu'))\n",
    "\n",
    "# Add a dropout layer\n",
    "classifier.add(Dropout(0.4))\n",
    "\n",
    "# Output layer (one node for binary models, use softmax for multi-class models)\n",
    "classifier.add(Dense(units = 5, activation = 'softmax'))"
   ]
  },
  {
   "cell_type": "code",
   "execution_count": 5,
   "id": "1d3b8157",
   "metadata": {},
   "outputs": [],
   "source": [
    "# Compiling the CNN\n",
    "classifier.compile(optimizer = 'rmsprop', loss = 'categorical_crossentropy', metrics = ['accuracy'])"
   ]
  },
  {
   "cell_type": "code",
   "execution_count": 6,
   "id": "3492e91d",
   "metadata": {},
   "outputs": [
    {
     "name": "stdout",
     "output_type": "stream",
     "text": [
      "Epoch 1/30\n",
      "76/76 [==============================] - 14s 176ms/step - loss: 0.2397 - accuracy: 0.9143 - val_loss: 0.0013 - val_accuracy: 1.0000\n",
      "Epoch 2/30\n",
      "76/76 [==============================] - 12s 160ms/step - loss: 0.0176 - accuracy: 0.9959 - val_loss: 8.1642e-05 - val_accuracy: 1.0000\n",
      "Epoch 3/30\n",
      "76/76 [==============================] - 12s 155ms/step - loss: 0.0264 - accuracy: 0.9930 - val_loss: 1.4227e-04 - val_accuracy: 1.0000\n",
      "Epoch 4/30\n",
      "76/76 [==============================] - 12s 157ms/step - loss: 0.0042 - accuracy: 0.9992 - val_loss: 1.4440e-05 - val_accuracy: 1.0000\n",
      "Epoch 5/30\n",
      "76/76 [==============================] - 12s 157ms/step - loss: 0.0116 - accuracy: 0.9963 - val_loss: 5.9304e-06 - val_accuracy: 1.0000\n",
      "Epoch 6/30\n",
      "76/76 [==============================] - 12s 158ms/step - loss: 6.2923e-04 - accuracy: 1.0000 - val_loss: 2.7601e-06 - val_accuracy: 1.0000\n",
      "Epoch 7/30\n",
      "76/76 [==============================] - 12s 157ms/step - loss: 0.0012 - accuracy: 0.9996 - val_loss: 2.9802e-07 - val_accuracy: 1.0000\n",
      "Epoch 8/30\n",
      "76/76 [==============================] - 12s 158ms/step - loss: 1.8264e-04 - accuracy: 1.0000 - val_loss: 3.5148e-09 - val_accuracy: 1.0000\n",
      "Epoch 9/30\n",
      "76/76 [==============================] - 12s 157ms/step - loss: 0.0030 - accuracy: 0.9996 - val_loss: 6.3060e-07 - val_accuracy: 1.0000\n",
      "Epoch 10/30\n",
      "76/76 [==============================] - 12s 159ms/step - loss: 3.0956e-05 - accuracy: 1.0000 - val_loss: 2.3432e-09 - val_accuracy: 1.0000\n",
      "Epoch 11/30\n",
      "76/76 [==============================] - 12s 157ms/step - loss: 0.0031 - accuracy: 0.9992 - val_loss: 2.3432e-09 - val_accuracy: 1.0000\n",
      "Epoch 12/30\n",
      "76/76 [==============================] - 12s 155ms/step - loss: 0.0022 - accuracy: 0.9992 - val_loss: 4.6864e-09 - val_accuracy: 1.0000\n",
      "Epoch 13/30\n",
      "76/76 [==============================] - 12s 154ms/step - loss: 2.1577e-05 - accuracy: 1.0000 - val_loss: 4.3935e-10 - val_accuracy: 1.0000\n",
      "Epoch 14/30\n",
      "76/76 [==============================] - 12s 155ms/step - loss: 0.0013 - accuracy: 0.9996 - val_loss: 0.0000e+00 - val_accuracy: 1.0000\n",
      "Epoch 15/30\n",
      "76/76 [==============================] - 12s 152ms/step - loss: 0.0030 - accuracy: 0.9992 - val_loss: 2.1967e-09 - val_accuracy: 1.0000\n",
      "Epoch 16/30\n",
      "76/76 [==============================] - 12s 154ms/step - loss: 0.0072 - accuracy: 0.9992 - val_loss: 0.0000e+00 - val_accuracy: 1.0000\n",
      "Epoch 17/30\n",
      "76/76 [==============================] - 12s 154ms/step - loss: 1.5447e-06 - accuracy: 1.0000 - val_loss: 0.0000e+00 - val_accuracy: 1.0000\n",
      "Epoch 18/30\n",
      "76/76 [==============================] - 12s 158ms/step - loss: 5.4708e-05 - accuracy: 1.0000 - val_loss: 1.7588e-07 - val_accuracy: 1.0000\n",
      "Epoch 19/30\n",
      "76/76 [==============================] - 13s 166ms/step - loss: 9.1188e-07 - accuracy: 1.0000 - val_loss: 0.0000e+00 - val_accuracy: 1.0000\n",
      "Epoch 20/30\n",
      "76/76 [==============================] - 13s 166ms/step - loss: 0.0373 - accuracy: 0.9963 - val_loss: 0.0000e+00 - val_accuracy: 1.0000\n",
      "Epoch 21/30\n",
      "76/76 [==============================] - 12s 158ms/step - loss: 3.0572e-06 - accuracy: 1.0000 - val_loss: 0.0000e+00 - val_accuracy: 1.0000\n",
      "Epoch 22/30\n",
      "76/76 [==============================] - 12s 159ms/step - loss: 4.4961e-08 - accuracy: 1.0000 - val_loss: 0.0000e+00 - val_accuracy: 1.0000\n",
      "Epoch 23/30\n",
      "76/76 [==============================] - 12s 152ms/step - loss: 0.0048 - accuracy: 0.9996 - val_loss: 0.0000e+00 - val_accuracy: 1.0000\n",
      "Epoch 24/30\n",
      "76/76 [==============================] - 12s 159ms/step - loss: 2.4263e-06 - accuracy: 1.0000 - val_loss: 0.0000e+00 - val_accuracy: 1.0000\n",
      "Epoch 25/30\n",
      "76/76 [==============================] - 12s 157ms/step - loss: 0.0013 - accuracy: 0.9996 - val_loss: 1.1716e-09 - val_accuracy: 1.0000\n",
      "Epoch 26/30\n",
      "76/76 [==============================] - 12s 160ms/step - loss: 2.6383e-05 - accuracy: 1.0000 - val_loss: 0.0000e+00 - val_accuracy: 1.0000\n",
      "Epoch 27/30\n",
      "76/76 [==============================] - 12s 155ms/step - loss: 1.0653e-06 - accuracy: 1.0000 - val_loss: 1.7046e-07 - val_accuracy: 1.0000\n",
      "Epoch 28/30\n",
      "76/76 [==============================] - 12s 160ms/step - loss: 0.0112 - accuracy: 0.9988 - val_loss: 0.0000e+00 - val_accuracy: 1.0000\n",
      "Epoch 29/30\n",
      "76/76 [==============================] - 12s 159ms/step - loss: 4.2799e-08 - accuracy: 1.0000 - val_loss: 0.0000e+00 - val_accuracy: 1.0000\n",
      "Epoch 30/30\n",
      "76/76 [==============================] - 12s 154ms/step - loss: 0.0013 - accuracy: 0.9996 - val_loss: 0.0000e+00 - val_accuracy: 1.0000\n"
     ]
    },
    {
     "data": {
      "text/plain": [
       "<keras.callbacks.History at 0x2893e499d90>"
      ]
     },
     "execution_count": 6,
     "metadata": {},
     "output_type": "execute_result"
    }
   ],
   "source": [
    "classifier.fit(training_set, batch_size = 32, epochs = 30, validation_data = test_set)"
   ]
  },
  {
   "cell_type": "code",
   "execution_count": 8,
   "id": "f2683c33",
   "metadata": {},
   "outputs": [],
   "source": [
    "test_labels = test_set.labels\n",
    "actuals = training_set.labels"
   ]
  },
  {
   "cell_type": "code",
   "execution_count": 9,
   "id": "a3b7e626",
   "metadata": {},
   "outputs": [
    {
     "name": "stdout",
     "output_type": "stream",
     "text": [
      "26/26 [==============================] - 1s 30ms/step\n"
     ]
    }
   ],
   "source": [
    "predictions = classifier.predict(test_set)"
   ]
  },
  {
   "cell_type": "code",
   "execution_count": 10,
   "id": "6e54355d",
   "metadata": {},
   "outputs": [
    {
     "name": "stdout",
     "output_type": "stream",
     "text": [
      "26/26 [==============================] - 1s 31ms/step - loss: 0.0000e+00 - accuracy: 1.0000\n"
     ]
    }
   ],
   "source": [
    "test_acc = classifier.evaluate(test_set)"
   ]
  },
  {
   "cell_type": "code",
   "execution_count": 11,
   "id": "13289ad7",
   "metadata": {},
   "outputs": [
    {
     "data": {
      "text/plain": [
       "[0.0, 1.0]"
      ]
     },
     "execution_count": 11,
     "metadata": {},
     "output_type": "execute_result"
    }
   ],
   "source": [
    "test_acc"
   ]
  },
  {
   "cell_type": "code",
   "execution_count": 12,
   "id": "ed58331a",
   "metadata": {},
   "outputs": [],
   "source": [
    "import numpy as np\n",
    "predict_labels = np.argmax(predictions, axis =-1)"
   ]
  },
  {
   "cell_type": "code",
   "execution_count": 13,
   "id": "adb53318",
   "metadata": {},
   "outputs": [],
   "source": [
    "from sklearn.metrics import confusion_matrix"
   ]
  },
  {
   "cell_type": "code",
   "execution_count": 14,
   "id": "330fe549",
   "metadata": {},
   "outputs": [
    {
     "data": {
      "text/plain": [
       "array([[164,   0,   0,   0,   0],\n",
       "       [  0, 166,   0,   0,   0],\n",
       "       [  0,   0, 154,   0,   0],\n",
       "       [  0,   0,   0, 166,   0],\n",
       "       [  0,   0,   0,   0, 164]], dtype=int64)"
      ]
     },
     "execution_count": 14,
     "metadata": {},
     "output_type": "execute_result"
    }
   ],
   "source": [
    "confusion_matrix(test_labels, predict_labels)"
   ]
  },
  {
   "cell_type": "code",
   "execution_count": null,
   "id": "bc7cadcc",
   "metadata": {},
   "outputs": [],
   "source": []
  }
 ],
 "metadata": {
  "kernelspec": {
   "display_name": "Python 3 (ipykernel)",
   "language": "python",
   "name": "python3"
  },
  "language_info": {
   "codemirror_mode": {
    "name": "ipython",
    "version": 3
   },
   "file_extension": ".py",
   "mimetype": "text/x-python",
   "name": "python",
   "nbconvert_exporter": "python",
   "pygments_lexer": "ipython3",
   "version": "3.9.12"
  }
 },
 "nbformat": 4,
 "nbformat_minor": 5
}
